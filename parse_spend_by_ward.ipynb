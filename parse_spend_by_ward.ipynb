{
 "cells": [
  {
   "cell_type": "code",
   "execution_count": 84,
   "id": "c0a8e79c-a451-43e7-b025-72854b227a66",
   "metadata": {},
   "outputs": [],
   "source": [
    "import requests\n",
    "import pandas as pd\n",
    "import requests\n",
    "import json\n",
    "import time\n",
    "import os\n",
    "url = \"https://www.wardwisechicago.org/api/spendingitems?\""
   ]
  },
  {
   "cell_type": "code",
   "execution_count": 58,
   "id": "c81c2b67-6414-46bc-9449-a7146d11f046",
   "metadata": {},
   "outputs": [
    {
     "name": "stdout",
     "output_type": "stream",
     "text": [
      "<Response [200]>\n"
     ]
    }
   ],
   "source": [
    "print(requests.get(url))"
   ]
  },
  {
   "cell_type": "code",
   "execution_count": 60,
   "id": "c13ae2c3-c939-45fb-b276-d8a0fe0fd0d8",
   "metadata": {},
   "outputs": [
    {
     "name": "stdout",
     "output_type": "stream",
     "text": [
      "wards: [1, 2, 3, 4, 5, 6, 7, 8, 9, 10, 11, 12, 13, 14, 15, 16, 17, 18, 19, 20, 21, 22, 23, 24, 25, 26, 27, 28, 29, 30, 31, 32, 33, 34, 35, 36, 37, 38, 39, 40, 41, 42, 43, 44, 45, 46, 47, 48, 49, 50]\n"
     ]
    }
   ],
   "source": [
    "wards = list(range(1, 51))\n",
    "print(f\"wards: {wards}\")"
   ]
  },
  {
   "cell_type": "code",
   "execution_count": 62,
   "id": "26410cc0-7e90-4d25-8bb2-3f6458482349",
   "metadata": {},
   "outputs": [],
   "source": [
    "#wards1 = [1, 2]\n",
    "#print(f\"wards1 {wards1}\")"
   ]
  },
  {
   "cell_type": "code",
   "execution_count": 64,
   "id": "ebd78e08-a70b-48f4-b2ac-9bf0b0df6428",
   "metadata": {},
   "outputs": [
    {
     "name": "stdout",
     "output_type": "stream",
     "text": [
      "https://www.wardwisechicago.org/api/spendingitems?ward=1\n",
      "https://www.wardwisechicago.org/api/spendingitems?ward=2\n",
      "https://www.wardwisechicago.org/api/spendingitems?ward=3\n",
      "https://www.wardwisechicago.org/api/spendingitems?ward=4\n",
      "https://www.wardwisechicago.org/api/spendingitems?ward=5\n",
      "https://www.wardwisechicago.org/api/spendingitems?ward=6\n",
      "https://www.wardwisechicago.org/api/spendingitems?ward=7\n",
      "https://www.wardwisechicago.org/api/spendingitems?ward=8\n",
      "https://www.wardwisechicago.org/api/spendingitems?ward=9\n",
      "https://www.wardwisechicago.org/api/spendingitems?ward=10\n",
      "https://www.wardwisechicago.org/api/spendingitems?ward=11\n",
      "https://www.wardwisechicago.org/api/spendingitems?ward=12\n",
      "https://www.wardwisechicago.org/api/spendingitems?ward=13\n",
      "https://www.wardwisechicago.org/api/spendingitems?ward=14\n",
      "https://www.wardwisechicago.org/api/spendingitems?ward=15\n",
      "https://www.wardwisechicago.org/api/spendingitems?ward=16\n",
      "https://www.wardwisechicago.org/api/spendingitems?ward=17\n",
      "https://www.wardwisechicago.org/api/spendingitems?ward=18\n",
      "https://www.wardwisechicago.org/api/spendingitems?ward=19\n",
      "https://www.wardwisechicago.org/api/spendingitems?ward=20\n",
      "https://www.wardwisechicago.org/api/spendingitems?ward=21\n",
      "https://www.wardwisechicago.org/api/spendingitems?ward=22\n",
      "https://www.wardwisechicago.org/api/spendingitems?ward=23\n",
      "https://www.wardwisechicago.org/api/spendingitems?ward=24\n",
      "https://www.wardwisechicago.org/api/spendingitems?ward=25\n",
      "https://www.wardwisechicago.org/api/spendingitems?ward=26\n",
      "https://www.wardwisechicago.org/api/spendingitems?ward=27\n",
      "https://www.wardwisechicago.org/api/spendingitems?ward=28\n",
      "https://www.wardwisechicago.org/api/spendingitems?ward=29\n",
      "https://www.wardwisechicago.org/api/spendingitems?ward=30\n",
      "https://www.wardwisechicago.org/api/spendingitems?ward=31\n",
      "https://www.wardwisechicago.org/api/spendingitems?ward=32\n",
      "https://www.wardwisechicago.org/api/spendingitems?ward=33\n",
      "https://www.wardwisechicago.org/api/spendingitems?ward=34\n",
      "https://www.wardwisechicago.org/api/spendingitems?ward=35\n",
      "https://www.wardwisechicago.org/api/spendingitems?ward=36\n",
      "https://www.wardwisechicago.org/api/spendingitems?ward=37\n",
      "https://www.wardwisechicago.org/api/spendingitems?ward=38\n",
      "https://www.wardwisechicago.org/api/spendingitems?ward=39\n",
      "https://www.wardwisechicago.org/api/spendingitems?ward=40\n",
      "https://www.wardwisechicago.org/api/spendingitems?ward=41\n",
      "https://www.wardwisechicago.org/api/spendingitems?ward=42\n",
      "https://www.wardwisechicago.org/api/spendingitems?ward=43\n",
      "https://www.wardwisechicago.org/api/spendingitems?ward=44\n",
      "https://www.wardwisechicago.org/api/spendingitems?ward=45\n",
      "https://www.wardwisechicago.org/api/spendingitems?ward=46\n",
      "https://www.wardwisechicago.org/api/spendingitems?ward=47\n",
      "https://www.wardwisechicago.org/api/spendingitems?ward=48\n",
      "https://www.wardwisechicago.org/api/spendingitems?ward=49\n",
      "https://www.wardwisechicago.org/api/spendingitems?ward=50\n"
     ]
    }
   ],
   "source": [
    "all_wards_data = []\n",
    "for this_ward in wards:\n",
    "    this_ward = str(this_ward)\n",
    "    query_url = url + \"ward=\" + this_ward\n",
    "    print(query_url)\n",
    "    \n",
    "    spending_data = requests.get(query_url).json()\n",
    "    spending_list = spending_data[\"spendingItems\"]\n",
    "    all_wards_data.extend(spending_list)\n",
    "    time.sleep(1)\n"
   ]
  },
  {
   "cell_type": "raw",
   "id": "8860e592-4a84-4a78-89ca-8077067c0bc9",
   "metadata": {},
   "source": [
    "all_wards_df = pd. DataFrame(all_wards_data)"
   ]
  },
  {
   "cell_type": "code",
   "execution_count": 74,
   "id": "db38f687-409d-4473-ac40-9209bf0f5f54",
   "metadata": {},
   "outputs": [
    {
     "data": {
      "text/plain": [
       "(47972, 7)"
      ]
     },
     "execution_count": 74,
     "metadata": {},
     "output_type": "execute_result"
    }
   ],
   "source": [
    "all_wards_df.shape"
   ]
  },
  {
   "cell_type": "code",
   "execution_count": 76,
   "id": "4bfcd35a-72bc-4aba-aadb-1bf7e8fd5ba1",
   "metadata": {},
   "outputs": [
    {
     "data": {
      "text/html": [
       "<div>\n",
       "<style scoped>\n",
       "    .dataframe tbody tr th:only-of-type {\n",
       "        vertical-align: middle;\n",
       "    }\n",
       "\n",
       "    .dataframe tbody tr th {\n",
       "        vertical-align: top;\n",
       "    }\n",
       "\n",
       "    .dataframe thead th {\n",
       "        text-align: right;\n",
       "    }\n",
       "</style>\n",
       "<table border=\"1\" class=\"dataframe\">\n",
       "  <thead>\n",
       "    <tr style=\"text-align: right;\">\n",
       "      <th></th>\n",
       "      <th>id</th>\n",
       "      <th>ward</th>\n",
       "      <th>year</th>\n",
       "      <th>item</th>\n",
       "      <th>category</th>\n",
       "      <th>location</th>\n",
       "      <th>cost</th>\n",
       "    </tr>\n",
       "  </thead>\n",
       "  <tbody>\n",
       "    <tr>\n",
       "      <th>0</th>\n",
       "      <td>1</td>\n",
       "      <td>1</td>\n",
       "      <td>2005</td>\n",
       "      <td>Alley Resurface Menu</td>\n",
       "      <td>Alleys</td>\n",
       "      <td>N WOOD ST--N HERMITAGE AV--W POTOMAC AV--W ELL...</td>\n",
       "      <td>9898</td>\n",
       "    </tr>\n",
       "    <tr>\n",
       "      <th>1</th>\n",
       "      <td>2</td>\n",
       "      <td>1</td>\n",
       "      <td>2005</td>\n",
       "      <td>Alley Resurface Menu</td>\n",
       "      <td>Alleys</td>\n",
       "      <td>W AUGUSTA BV--W THOMAS ST--N HONORE ST--N WOLC...</td>\n",
       "      <td>5662</td>\n",
       "    </tr>\n",
       "    <tr>\n",
       "      <th>2</th>\n",
       "      <td>3</td>\n",
       "      <td>1</td>\n",
       "      <td>2005</td>\n",
       "      <td>Alley Resurface Menu</td>\n",
       "      <td>Alleys</td>\n",
       "      <td>N OAKLEY--N CLAREMONT AV--W POTOMAC AV--W HIRS...</td>\n",
       "      <td>15806</td>\n",
       "    </tr>\n",
       "    <tr>\n",
       "      <th>3</th>\n",
       "      <td>4</td>\n",
       "      <td>1</td>\n",
       "      <td>2005</td>\n",
       "      <td>Alley Resurface Menu</td>\n",
       "      <td>Alleys</td>\n",
       "      <td>W FULLERTON AV--W ALTGELD ST--N MAPLEWOOD AV--...</td>\n",
       "      <td>18260</td>\n",
       "    </tr>\n",
       "    <tr>\n",
       "      <th>4</th>\n",
       "      <td>5</td>\n",
       "      <td>1</td>\n",
       "      <td>2005</td>\n",
       "      <td>Alley Resurface Menu</td>\n",
       "      <td>Alleys</td>\n",
       "      <td>W DIVISION ST--N GREENVIEW AV--W BLACKHAWK ST-...</td>\n",
       "      <td>5361</td>\n",
       "    </tr>\n",
       "  </tbody>\n",
       "</table>\n",
       "</div>"
      ],
      "text/plain": [
       "   id  ward  year                  item category  \\\n",
       "0   1     1  2005  Alley Resurface Menu   Alleys   \n",
       "1   2     1  2005  Alley Resurface Menu   Alleys   \n",
       "2   3     1  2005  Alley Resurface Menu   Alleys   \n",
       "3   4     1  2005  Alley Resurface Menu   Alleys   \n",
       "4   5     1  2005  Alley Resurface Menu   Alleys   \n",
       "\n",
       "                                            location   cost  \n",
       "0  N WOOD ST--N HERMITAGE AV--W POTOMAC AV--W ELL...   9898  \n",
       "1  W AUGUSTA BV--W THOMAS ST--N HONORE ST--N WOLC...   5662  \n",
       "2  N OAKLEY--N CLAREMONT AV--W POTOMAC AV--W HIRS...  15806  \n",
       "3  W FULLERTON AV--W ALTGELD ST--N MAPLEWOOD AV--...  18260  \n",
       "4  W DIVISION ST--N GREENVIEW AV--W BLACKHAWK ST-...   5361  "
      ]
     },
     "execution_count": 76,
     "metadata": {},
     "output_type": "execute_result"
    }
   ],
   "source": [
    "all_wards_df.head()"
   ]
  },
  {
   "cell_type": "code",
   "execution_count": 94,
   "id": "20957701-42fb-4553-8340-5a19aea35efb",
   "metadata": {},
   "outputs": [
    {
     "data": {
      "text/html": [
       "<div>\n",
       "<style scoped>\n",
       "    .dataframe tbody tr th:only-of-type {\n",
       "        vertical-align: middle;\n",
       "    }\n",
       "\n",
       "    .dataframe tbody tr th {\n",
       "        vertical-align: top;\n",
       "    }\n",
       "\n",
       "    .dataframe thead th {\n",
       "        text-align: right;\n",
       "    }\n",
       "</style>\n",
       "<table border=\"1\" class=\"dataframe\">\n",
       "  <thead>\n",
       "    <tr style=\"text-align: right;\">\n",
       "      <th></th>\n",
       "      <th>id</th>\n",
       "      <th>ward</th>\n",
       "      <th>year</th>\n",
       "      <th>item</th>\n",
       "      <th>category</th>\n",
       "      <th>location</th>\n",
       "      <th>cost</th>\n",
       "    </tr>\n",
       "  </thead>\n",
       "  <tbody>\n",
       "    <tr>\n",
       "      <th>47967</th>\n",
       "      <td>47986</td>\n",
       "      <td>50</td>\n",
       "      <td>2024</td>\n",
       "      <td>Street Resurfacing Menu</td>\n",
       "      <td>Street Resurfacing</td>\n",
       "      <td>ON W BIRCHWOOD AVE FROM N OAKLEY AVE (2300 W) ...</td>\n",
       "      <td>52680</td>\n",
       "    </tr>\n",
       "    <tr>\n",
       "      <th>47968</th>\n",
       "      <td>47987</td>\n",
       "      <td>50</td>\n",
       "      <td>2024</td>\n",
       "      <td>Street Speed Hump Menu</td>\n",
       "      <td>Street Resurfacing</td>\n",
       "      <td>ON N BELL AVE FROM W LUNT AVE (7000 N) TO W GR...</td>\n",
       "      <td>2440</td>\n",
       "    </tr>\n",
       "    <tr>\n",
       "      <th>47969</th>\n",
       "      <td>47988</td>\n",
       "      <td>50</td>\n",
       "      <td>2024</td>\n",
       "      <td>Street Speed Hump Menu</td>\n",
       "      <td>Street Resurfacing</td>\n",
       "      <td>ON W ESTES AVE FROM N BELL AVE (2200 W) TO N O...</td>\n",
       "      <td>2440</td>\n",
       "    </tr>\n",
       "    <tr>\n",
       "      <th>47970</th>\n",
       "      <td>47989</td>\n",
       "      <td>50</td>\n",
       "      <td>2024</td>\n",
       "      <td>Street Speed Hump Menu</td>\n",
       "      <td>Street Resurfacing</td>\n",
       "      <td>ON W FARGO AVE FROM N WASHTENAW AVE (2700 W) T...</td>\n",
       "      <td>4880</td>\n",
       "    </tr>\n",
       "    <tr>\n",
       "      <th>47971</th>\n",
       "      <td>47990</td>\n",
       "      <td>50</td>\n",
       "      <td>2024</td>\n",
       "      <td>Street Speed Hump Replacement</td>\n",
       "      <td>Street Resurfacing</td>\n",
       "      <td>ON W BIRCHWOOD AVE FROM N OAKLEY AVE (2300 W) ...</td>\n",
       "      <td>0</td>\n",
       "    </tr>\n",
       "  </tbody>\n",
       "</table>\n",
       "</div>"
      ],
      "text/plain": [
       "          id  ward  year                           item            category  \\\n",
       "47967  47986    50  2024        Street Resurfacing Menu  Street Resurfacing   \n",
       "47968  47987    50  2024         Street Speed Hump Menu  Street Resurfacing   \n",
       "47969  47988    50  2024         Street Speed Hump Menu  Street Resurfacing   \n",
       "47970  47989    50  2024         Street Speed Hump Menu  Street Resurfacing   \n",
       "47971  47990    50  2024  Street Speed Hump Replacement  Street Resurfacing   \n",
       "\n",
       "                                                location   cost  \n",
       "47967  ON W BIRCHWOOD AVE FROM N OAKLEY AVE (2300 W) ...  52680  \n",
       "47968  ON N BELL AVE FROM W LUNT AVE (7000 N) TO W GR...   2440  \n",
       "47969  ON W ESTES AVE FROM N BELL AVE (2200 W) TO N O...   2440  \n",
       "47970  ON W FARGO AVE FROM N WASHTENAW AVE (2700 W) T...   4880  \n",
       "47971  ON W BIRCHWOOD AVE FROM N OAKLEY AVE (2300 W) ...      0  "
      ]
     },
     "execution_count": 94,
     "metadata": {},
     "output_type": "execute_result"
    }
   ],
   "source": [
    "all_wards_df.tail()"
   ]
  },
  {
   "cell_type": "code",
   "execution_count": 138,
   "id": "cd50ce05-ab60-424c-8cf4-5b87cad36315",
   "metadata": {},
   "outputs": [
    {
     "name": "stdout",
     "output_type": "stream",
     "text": [
      "number of wards: 50, all OK\n"
     ]
    }
   ],
   "source": [
    "unique_wards = len(all_wards_df[\"ward\"].unique())\n",
    "if unique_wards == 50:\n",
    "    print(f\"number of wards: {unique_wards}, all OK\")\n",
    "else:\n",
    "    print(f\"number of wards: {unique_wards}, is not correct, check api call\")"
   ]
  },
  {
   "cell_type": "code",
   "execution_count": 147,
   "id": "5262a388-da9d-4331-9db0-1fb870196d3c",
   "metadata": {},
   "outputs": [
    {
     "data": {
      "text/html": [
       "<div>\n",
       "<style scoped>\n",
       "    .dataframe tbody tr th:only-of-type {\n",
       "        vertical-align: middle;\n",
       "    }\n",
       "\n",
       "    .dataframe tbody tr th {\n",
       "        vertical-align: top;\n",
       "    }\n",
       "\n",
       "    .dataframe thead th {\n",
       "        text-align: right;\n",
       "    }\n",
       "</style>\n",
       "<table border=\"1\" class=\"dataframe\">\n",
       "  <thead>\n",
       "    <tr style=\"text-align: right;\">\n",
       "      <th></th>\n",
       "      <th>id</th>\n",
       "      <th>ward</th>\n",
       "      <th>year</th>\n",
       "      <th>item</th>\n",
       "      <th>category</th>\n",
       "      <th>location</th>\n",
       "      <th>cost</th>\n",
       "    </tr>\n",
       "  </thead>\n",
       "  <tbody>\n",
       "    <tr>\n",
       "      <th>646</th>\n",
       "      <td>918</td>\n",
       "      <td>1</td>\n",
       "      <td>2022</td>\n",
       "      <td>Curb &amp; Gutter Menu</td>\n",
       "      <td>Street Resurfacing</td>\n",
       "      <td>2759 N LEAVITT ST</td>\n",
       "      <td>25646</td>\n",
       "    </tr>\n",
       "    <tr>\n",
       "      <th>788</th>\n",
       "      <td>788</td>\n",
       "      <td>1</td>\n",
       "      <td>2019</td>\n",
       "      <td>Maplewood Park Field House 2019 Phase II Menu ...</td>\n",
       "      <td>Parks</td>\n",
       "      <td>1640 N MAPLEWOOD AVE</td>\n",
       "      <td>250000</td>\n",
       "    </tr>\n",
       "    <tr>\n",
       "      <th>789</th>\n",
       "      <td>789</td>\n",
       "      <td>1</td>\n",
       "      <td>2019</td>\n",
       "      <td>Alley Resurfacing Menu (1-1)</td>\n",
       "      <td>Alleys</td>\n",
       "      <td>W OHIO ST &amp; N DAMEN AVE &amp; W RACE AVE &amp; N WOLCO...</td>\n",
       "      <td>17652</td>\n",
       "    </tr>\n",
       "    <tr>\n",
       "      <th>790</th>\n",
       "      <td>790</td>\n",
       "      <td>1</td>\n",
       "      <td>2019</td>\n",
       "      <td>Alley Resurfacing Menu</td>\n",
       "      <td>Alleys</td>\n",
       "      <td>N WHIPPLE ST &amp; W BLOOMINGDALE AVE &amp; N HUMBOLDT...</td>\n",
       "      <td>37557</td>\n",
       "    </tr>\n",
       "    <tr>\n",
       "      <th>791</th>\n",
       "      <td>791</td>\n",
       "      <td>1</td>\n",
       "      <td>2019</td>\n",
       "      <td>Alley Resurfacing Menu</td>\n",
       "      <td>Alleys</td>\n",
       "      <td>N ROCKWELL ST &amp; W CORTLAND ST &amp; N TALMAN AVE &amp;...</td>\n",
       "      <td>70987</td>\n",
       "    </tr>\n",
       "  </tbody>\n",
       "</table>\n",
       "</div>"
      ],
      "text/plain": [
       "      id  ward  year                                               item  \\\n",
       "646  918     1  2022                                 Curb & Gutter Menu   \n",
       "788  788     1  2019  Maplewood Park Field House 2019 Phase II Menu ...   \n",
       "789  789     1  2019                       Alley Resurfacing Menu (1-1)   \n",
       "790  790     1  2019                             Alley Resurfacing Menu   \n",
       "791  791     1  2019                             Alley Resurfacing Menu   \n",
       "\n",
       "               category                                           location  \\\n",
       "646  Street Resurfacing                                  2759 N LEAVITT ST   \n",
       "788               Parks                               1640 N MAPLEWOOD AVE   \n",
       "789              Alleys  W OHIO ST & N DAMEN AVE & W RACE AVE & N WOLCO...   \n",
       "790              Alleys  N WHIPPLE ST & W BLOOMINGDALE AVE & N HUMBOLDT...   \n",
       "791              Alleys  N ROCKWELL ST & W CORTLAND ST & N TALMAN AVE &...   \n",
       "\n",
       "       cost  \n",
       "646   25646  \n",
       "788  250000  \n",
       "789   17652  \n",
       "790   37557  \n",
       "791   70987  "
      ]
     },
     "execution_count": 147,
     "metadata": {},
     "output_type": "execute_result"
    }
   ],
   "source": [
    "all_wards_post_2018_df = all_wards_df[(all_wards_df[\"year\"] > 2018)]\n",
    "all_wards_post_2018_df.head()"
   ]
  },
  {
   "cell_type": "code",
   "execution_count": 149,
   "id": "3a22476b-e44d-450b-9ad9-b86e5472d392",
   "metadata": {},
   "outputs": [],
   "source": [
    "fileName = \"all_wards_spend_data.csv\"\n",
    "all_wards_df.to_csv(\"all_wards_spend_post_2018_data.csv\", encoding=\"utf-8\", index=False)"
   ]
  },
  {
   "cell_type": "code",
   "execution_count": 151,
   "id": "16d84f97-9931-4e3d-a2bb-9850dfd07e64",
   "metadata": {},
   "outputs": [
    {
     "name": "stdout",
     "output_type": "stream",
     "text": [
      "cwd: /Users/wayne.mitchell/Documents/NU/Go_giter/project-1\n"
     ]
    }
   ],
   "source": [
    "print(f\"cwd: {os.getcwd()}\")"
   ]
  },
  {
   "cell_type": "code",
   "execution_count": 153,
   "id": "7d139306-97b1-4dfa-9c44-5e5ad1663d04",
   "metadata": {},
   "outputs": [
    {
     "name": "stdout",
     "output_type": "stream",
     "text": [
      "list cwd: ['all_wards_spend_post_2018_data.csv', 'README.md', '.gitignore', 'all_wards_spend_data.csv', '.ipynb_checkpoints', 'parse_spend_by_ward.ipynb', '.git']\n"
     ]
    }
   ],
   "source": [
    "print(f\"list cwd: {os.listdir()}\")"
   ]
  },
  {
   "cell_type": "code",
   "execution_count": null,
   "id": "60e78643-0f33-4c39-8e95-b76a785b7765",
   "metadata": {},
   "outputs": [],
   "source": []
  }
 ],
 "metadata": {
  "kernelspec": {
   "display_name": "Python 3 (ipykernel)",
   "language": "python",
   "name": "python3"
  },
  "language_info": {
   "codemirror_mode": {
    "name": "ipython",
    "version": 3
   },
   "file_extension": ".py",
   "mimetype": "text/x-python",
   "name": "python",
   "nbconvert_exporter": "python",
   "pygments_lexer": "ipython3",
   "version": "3.12.4"
  }
 },
 "nbformat": 4,
 "nbformat_minor": 5
}
